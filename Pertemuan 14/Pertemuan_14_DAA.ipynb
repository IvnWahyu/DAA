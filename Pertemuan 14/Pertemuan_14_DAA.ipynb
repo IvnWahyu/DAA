{
  "nbformat": 4,
  "nbformat_minor": 0,
  "metadata": {
    "colab": {
      "provenance": []
    },
    "kernelspec": {
      "name": "python3",
      "display_name": "Python 3"
    },
    "language_info": {
      "name": "python"
    }
  },
  "cells": [
    {
      "cell_type": "markdown",
      "source": [
        "**Kasus Fraud Analytics**"
      ],
      "metadata": {
        "id": "FcNwmqwtDRYX"
      }
    },
    {
      "cell_type": "code",
      "execution_count": 54,
      "metadata": {
        "id": "uzMmZEngBdxn"
      },
      "outputs": [],
      "source": [
        "import networkx as nx\n",
        "import matplotlib.pyplot as plt"
      ]
    },
    {
      "cell_type": "code",
      "source": [
        "vertices = range(1, 10)\n",
        "edges = [(7, 2), (2, 3), (7, 4), (4, 5), (7, 3), (7, 5), (1, 6), (1, 7), (2, 8), (2, 9)]"
      ],
      "metadata": {
        "id": "WsCwSi__BwmZ"
      },
      "execution_count": 55,
      "outputs": []
    },
    {
      "cell_type": "code",
      "source": [
        "G = nx.Graph()"
      ],
      "metadata": {
        "id": "NYsN8JveCyEw"
      },
      "execution_count": 56,
      "outputs": []
    },
    {
      "cell_type": "code",
      "source": [
        "G.add_nodes_from(vertices)\n",
        "G.add_edges_from(edges)\n",
        "pos = nx.spring_layout(G)"
      ],
      "metadata": {
        "id": "C2Y4IBU6C3O3"
      },
      "execution_count": 57,
      "outputs": []
    },
    {
      "cell_type": "code",
      "source": [
        "nx.draw_networkx_nodes(G, pos,\n",
        "                       nodelist = [1, 4, 3, 8, 9],\n",
        "                       #with_labels=True,\n",
        "                       node_color = 'g',\n",
        "                       node_size = 1300)"
      ],
      "metadata": {
        "colab": {
          "base_uri": "https://localhost:8080/",
          "height": 265
        },
        "id": "proYV3lIDO2q",
        "outputId": "ab054a72-150f-455c-af51-8a5bd3cfb009"
      },
      "execution_count": 58,
      "outputs": [
        {
          "output_type": "execute_result",
          "data": {
            "text/plain": [
              "<matplotlib.collections.PathCollection at 0x7f841c79eb10>"
            ]
          },
          "metadata": {},
          "execution_count": 58
        },
        {
          "output_type": "display_data",
          "data": {
            "text/plain": [
              "<Figure size 432x288 with 1 Axes>"
            ],
            "image/png": "[encoded data removed]"
          },
          "metadata": {}
        }
      ]
    },
    {
      "cell_type": "code",
      "source": [
        "nx.draw_networkx_nodes(G, pos,\n",
        "                       nodelist=[2, 5, 6, 7],\n",
        "                       #with_labels = True,\n",
        "                       node_color='r',\n",
        "                       node_size=1300)"
      ],
      "metadata": {
        "colab": {
          "base_uri": "https://localhost:8080/",
          "height": 265
        },
        "id": "ipFlwWIKDO82",
        "outputId": "1b7c7671-acde-4251-bac4-a301b8b59f1e"
      },
      "execution_count": 59,
      "outputs": [
        {
          "output_type": "execute_result",
          "data": {
            "text/plain": [
              "<matplotlib.collections.PathCollection at 0x7f841c569d90>"
            ]
          },
          "metadata": {},
          "execution_count": 59
        },
        {
          "output_type": "display_data",
          "data": {
            "text/plain": [
              "<Figure size 432x288 with 1 Axes>"
            ],
            "image/png": "[encoded data removed]"
          },
          "metadata": {}
        }
      ]
    },
    {
      "cell_type": "code",
      "source": [
        "nx.draw_networkx_edges(G, pos, edges, width=3, alpha=0.5, edge_color='b')\n",
        "labels={} \n",
        "labels[1]=r'1 NF' \n",
        "labels[2]=r'2 F' \n",
        "labels[3]=r'3 NF'\n",
        "labels[4]=r'4 NF' \n",
        "labels[5]=r'5 F' \n",
        "labels[6]=r'6 F' \n",
        "labels[7]=r'7 F' \n",
        "labels[8]=r'8 NF' \n",
        "labels[9]=r'9 NF'\n",
        "nx.draw_networkx_labels(G, pos, labels, font_size=16)"
      ],
      "metadata": {
        "colab": {
          "base_uri": "https://localhost:8080/",
          "height": 404
        },
        "id": "2-mfXe0xEsOT",
        "outputId": "dfd5463e-ca4e-430f-a92e-e53cf421af68"
      },
      "execution_count": 60,
      "outputs": [
        {
          "output_type": "execute_result",
          "data": {
            "text/plain": [
              "{1: Text(-0.32185504090728473, 0.56795318685429, '1 NF'),\n",
              " 2: Text(0.4060426451676445, -0.2761525763438442, '2 F'),\n",
              " 3: Text(0.16555831177332753, -0.08865471754449694, '3 NF'),\n",
              " 4: Text(-0.5212414478187348, -0.2750491073476704, '4 NF'),\n",
              " 5: Text(-0.6191783387833072, -0.023147062364294497, '5 F'),\n",
              " 6: Text(-0.45207074067695835, 1.0, '6 F'),\n",
              " 7: Text(-0.16808346210029532, 0.009475281109218591, '7 F'),\n",
              " 8: Text(0.8737748266122427, -0.23179624033242502, '8 NF'),\n",
              " 9: Text(0.6370532467333662, -0.6826287640307773, '9 NF')}"
            ]
          },
          "metadata": {},
          "execution_count": 60
        },
        {
          "output_type": "display_data",
          "data": {
            "text/plain": [
              "<Figure size 432x288 with 1 Axes>"
            ],
            "image/png": "[encoded data removed]"
          },
          "metadata": {}
        }
      ]
    }
  ]
}