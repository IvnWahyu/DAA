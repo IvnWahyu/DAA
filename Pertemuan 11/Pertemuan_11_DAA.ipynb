{
  "nbformat": 4,
  "nbformat_minor": 0,
  "metadata": {
    "colab": {
      "provenance": []
    },
    "kernelspec": {
      "name": "python3",
      "display_name": "Python 3"
    },
    "language_info": {
      "name": "python"
    }
  },
  "cells": [
    {
      "cell_type": "code",
      "execution_count": 20,
      "metadata": {
        "id": "CTmNS2js5uCG"
      },
      "outputs": [],
      "source": [
        "# a-----b\n",
        "# /     /\n",
        "# /     /\n",
        "# c-----d-----e"
      ]
    },
    {
      "cell_type": "code",
      "source": [
        "# Create the dictionary with graph elements\n",
        "graph ={\"a\" : [\"b\", \"c\"],\n",
        "        \"b\" : [\"a\", \"d\"],\n",
        "        \"c\" : [\"a\", \"d\"],\n",
        "        \"d\" : [\"e\"],\n",
        "        \"e\" : [\"d\"]\n",
        "        }\n",
        "\n",
        "# Print the graph\n",
        "print(graph)"
      ],
      "metadata": {
        "colab": {
          "base_uri": "https://localhost:8080/"
        },
        "id": "Hg_DoEbH8Po1",
        "outputId": "49ac486a-743c-4602-9f05-2490b0dac774"
      },
      "execution_count": 21,
      "outputs": [
        {
          "output_type": "stream",
          "name": "stdout",
          "text": [
            "{'a': ['b', 'c'], 'b': ['a', 'd'], 'c': ['a', 'd'], 'd': ['e'], 'e': ['d']}\n"
          ]
        }
      ]
    },
    {
      "cell_type": "code",
      "source": [
        "#Latihan\n",
        "\n",
        "#T---U---V\n",
        "#|       |\n",
        "#W-------X\n",
        "#|       |\n",
        "#Z       S"
      ],
      "metadata": {
        "id": "cEO_r1_W_SHm"
      },
      "execution_count": 22,
      "outputs": []
    },
    {
      "cell_type": "code",
      "source": [
        "graph = {\"S\" : [\"X\"],\n",
        "         \"T\" : [\"U\", \"W\"],\n",
        "         \"U\" : [\"T\", \"V\"],\n",
        "         \"V\" : [\"U\", \"X\"],\n",
        "         \"W\" : [\"T\", \"X\", \"Z\"],\n",
        "         \"X\" : [\"V\", \"W\", \"S\"],\n",
        "         \"Z\" : [\"W\"],\n",
        "         }\n",
        "\n",
        "print(graph)"
      ],
      "metadata": {
        "colab": {
          "base_uri": "https://localhost:8080/"
        },
        "id": "sdyKf76E9nwS",
        "outputId": "763a6e88-1a93-4804-bf95-20b051b65471"
      },
      "execution_count": 23,
      "outputs": [
        {
          "output_type": "stream",
          "name": "stdout",
          "text": [
            "{'S': ['X'], 'T': ['U', 'W'], 'U': ['T', 'V'], 'V': ['U', 'X'], 'W': ['T', 'X', 'Z'], 'X': ['V', 'W', 'S'], 'Z': ['W']}\n"
          ]
        }
      ]
    },
    {
      "cell_type": "code",
      "source": [
        "#Latihan\n",
        "\n",
        "#R---O---M\n",
        "#|   |   |\n",
        "#L---P---N"
      ],
      "metadata": {
        "id": "PHg32vXpApan"
      },
      "execution_count": 24,
      "outputs": []
    },
    {
      "cell_type": "code",
      "source": [
        "graph = {\"R\" : [\"O\", \"L\"],\n",
        "         \"O\" : [\"R\", \"M\", \"P\"],\n",
        "         \"M\" : [\"O\", \"N\"],\n",
        "         \"L\" : [\"R\", \"P\",],\n",
        "         \"P\" : [\"O\", \"L\", \"N\"],\n",
        "         \"N\" : [\"M\", \"P\"]\n",
        "         }\n",
        "\n",
        "print(graph)"
      ],
      "metadata": {
        "colab": {
          "base_uri": "https://localhost:8080/"
        },
        "id": "AOPRcy_3A3Ul",
        "outputId": "65a3afe6-2d8c-4ee8-a144-85d8b16c5d13"
      },
      "execution_count": 25,
      "outputs": [
        {
          "output_type": "stream",
          "name": "stdout",
          "text": [
            "{'R': ['O', 'L'], 'O': ['R', 'M', 'P'], 'M': ['O', 'N'], 'L': ['R', 'P'], 'P': ['O', 'L', 'N'], 'N': ['M', 'P']}\n"
          ]
        }
      ]
    },
    {
      "cell_type": "markdown",
      "source": [
        "Menampilkan Simpul pada graph"
      ],
      "metadata": {
        "id": "VkAvPnoYDhVh"
      }
    },
    {
      "cell_type": "code",
      "source": [
        "class graph:\n",
        "  def __init__(self, gdict=None):\n",
        "    if gdict is None:\n",
        "      gdict = []\n",
        "    self.gdict = gdict\n",
        "  \n",
        "  def getVertices(self):\n",
        "    return list(self.gdict.keys())\n",
        "\n",
        "graph_elements = {\"a\" : [\"b\", \"c\"],\n",
        "                  \"b\" : [\"a\", \"d\"],\n",
        "                  \"c\" : [\"a\", \"d\"],\n",
        "                  \"d\" : [\"e\"],\n",
        "                  \"e\" : [\"d\"]\n",
        "                  }\n",
        "\n",
        "g = graph(graph_elements)\n",
        "\n",
        "print(g.getVertices())"
      ],
      "metadata": {
        "colab": {
          "base_uri": "https://localhost:8080/"
        },
        "id": "lQbV9bomDhhZ",
        "outputId": "853ac5dc-ab62-42de-a979-58c0f285efb9"
      },
      "execution_count": 26,
      "outputs": [
        {
          "output_type": "stream",
          "name": "stdout",
          "text": [
            "['a', 'b', 'c', 'd', 'e']\n"
          ]
        }
      ]
    },
    {
      "cell_type": "code",
      "source": [
        "class graph:\n",
        "  def __init__(self, gdict=None):\n",
        "    if gdict is None:\n",
        "      gdict = []\n",
        "    self.gdict = gdict\n",
        "  \n",
        "  def getVertices(self):\n",
        "    return list(self.gdict.keys())\n",
        "\n",
        "graph_elements = {\"S\" : [\"X\"],\n",
        "                  \"T\" : [\"U\", \"W\"],\n",
        "                  \"U\" : [\"T\", \"V\"],\n",
        "                  \"V\" : [\"U\", \"X\"],\n",
        "                  \"W\" : [\"T\", \"X\", \"Z\"],\n",
        "                  \"X\" : [\"V\", \"W\", \"S\"],\n",
        "                  \"Z\" : [\"W\"],\n",
        "                  }\n",
        "\n",
        "g = graph(graph_elements)\n",
        "\n",
        "print(g.getVertices())"
      ],
      "metadata": {
        "colab": {
          "base_uri": "https://localhost:8080/"
        },
        "id": "MmGat-DPH-PF",
        "outputId": "0017b6d2-6252-417c-ca7b-156f0b2d315e"
      },
      "execution_count": 27,
      "outputs": [
        {
          "output_type": "stream",
          "name": "stdout",
          "text": [
            "['S', 'T', 'U', 'V', 'W', 'X', 'Z']\n"
          ]
        }
      ]
    },
    {
      "cell_type": "code",
      "source": [
        "class graph:\n",
        "  def __init__(self, gdict=None):\n",
        "    if gdict is None:\n",
        "      gdict = []\n",
        "    self.gdict = gdict\n",
        "  \n",
        "  def getVertices(self):\n",
        "    return list(self.gdict.keys())\n",
        "\n",
        "graph_elements = {\"R\" : [\"O\", \"L\"],\n",
        "                  \"O\" : [\"R\", \"M\", \"P\"],\n",
        "                  \"M\" : [\"O\", \"N\"],\n",
        "                  \"L\" : [\"R\", \"P\",],\n",
        "                  \"P\" : [\"O\", \"L\", \"N\"],\n",
        "                  \"N\" : [\"M\", \"P\"]\n",
        "                  }\n",
        "\n",
        "g = graph(graph_elements)\n",
        "\n",
        "print(g.getVertices())"
      ],
      "metadata": {
        "colab": {
          "base_uri": "https://localhost:8080/"
        },
        "id": "S5YhzSwTIu91",
        "outputId": "d6b8f6ab-bfac-4e01-c14a-ac60d4e58408"
      },
      "execution_count": 28,
      "outputs": [
        {
          "output_type": "stream",
          "name": "stdout",
          "text": [
            "['R', 'O', 'M', 'L', 'P', 'N']\n"
          ]
        }
      ]
    },
    {
      "cell_type": "markdown",
      "source": [
        "**Menampilkan Sudut pada Graph**"
      ],
      "metadata": {
        "id": "aPp_ij09JOYG"
      }
    },
    {
      "cell_type": "code",
      "source": [
        "class graph:\n",
        "  def __init__(self, gdict=None):\n",
        "    if gdict is None:\n",
        "      gdict = {}\n",
        "    self.gdict = gdict\n",
        "  \n",
        "  def edges(self):\n",
        "    return self.findedges()\n",
        "\n",
        "  def findedges(self):\n",
        "    edgename = []\n",
        "    for vrtx in self.gdict:\n",
        "      for nxtvrtx in self.gdict[vrtx]:\n",
        "        if {nxtvrtx, vrtx} not in edgename:\n",
        "          edgename.append({vrtx, nxtvrtx})\n",
        "    return edgename\n",
        "\n",
        "graph_elements = {\"a\" : [\"b\", \"c\"],\n",
        "                  \"b\" : [\"a\", \"d\"],\n",
        "                  \"c\" : [\"a\", \"d\"],\n",
        "                  \"d\" : [\"e\"],\n",
        "                  \"e\" : [\"d\"]\n",
        "                  }\n",
        "\n",
        "g = graph(graph_elements)\n",
        "\n",
        "print(g.edges())"
      ],
      "metadata": {
        "colab": {
          "base_uri": "https://localhost:8080/"
        },
        "id": "RhKPvp2PJLnp",
        "outputId": "de5d331d-272f-484e-f449-bc16a2c05423"
      },
      "execution_count": 29,
      "outputs": [
        {
          "output_type": "stream",
          "name": "stdout",
          "text": [
            "[{'a', 'b'}, {'a', 'c'}, {'d', 'b'}, {'d', 'c'}, {'d', 'e'}]\n"
          ]
        }
      ]
    },
    {
      "cell_type": "code",
      "source": [
        "class graph:\n",
        "  def __init__(self, gdict=None):\n",
        "    if gdict is None:\n",
        "      gdict = {}\n",
        "    self.gdict = gdict\n",
        "  \n",
        "  def edges(self):\n",
        "    return self.findedges()\n",
        "\n",
        "  def findedges(self):\n",
        "    edgename = []\n",
        "    for vrtx in self.gdict:\n",
        "      for nxtvrtx in self.gdict[vrtx]:\n",
        "        if {nxtvrtx, vrtx} not in edgename:\n",
        "          edgename.append({vrtx, nxtvrtx})\n",
        "    return edgename\n",
        "\n",
        "graph_elements = {\"S\" : [\"X\"],\n",
        "                  \"T\" : [\"U\", \"W\"],\n",
        "                  \"U\" : [\"T\", \"V\"],\n",
        "                  \"V\" : [\"U\", \"X\"],\n",
        "                  \"W\" : [\"T\", \"X\", \"Z\"],\n",
        "                  \"X\" : [\"V\", \"W\", \"S\"],\n",
        "                  \"Z\" : [\"W\"],}\n",
        "\n",
        "\n",
        "g = graph(graph_elements)\n",
        "\n",
        "print(g.edges())"
      ],
      "metadata": {
        "colab": {
          "base_uri": "https://localhost:8080/"
        },
        "id": "8_Sxj0CCRJaE",
        "outputId": "66eb0c7c-9090-4a95-c7ce-959566ab86ee"
      },
      "execution_count": 30,
      "outputs": [
        {
          "output_type": "stream",
          "name": "stdout",
          "text": [
            "[{'S', 'X'}, {'U', 'T'}, {'W', 'T'}, {'U', 'V'}, {'X', 'V'}, {'W', 'X'}, {'W', 'Z'}]\n"
          ]
        }
      ]
    },
    {
      "cell_type": "code",
      "source": [
        "class graph:\n",
        "  def __init__(self, gdict=None):\n",
        "    if gdict is None:\n",
        "      gdict = {}\n",
        "    self.gdict = gdict\n",
        "  \n",
        "  def edges(self):\n",
        "    return self.findedges()\n",
        "\n",
        "  def findedges(self):\n",
        "    edgename = []\n",
        "    for vrtx in self.gdict:\n",
        "      for nxtvrtx in self.gdict[vrtx]:\n",
        "        if {nxtvrtx, vrtx} not in edgename:\n",
        "          edgename.append({vrtx, nxtvrtx})\n",
        "    return edgename\n",
        "\n",
        "graph_elements = {\"R\" : [\"O\", \"L\"],\n",
        "                   \"O\" : [\"R\", \"M\", \"P\"],\n",
        "                   \"M\" : [\"O\", \"N\"],\n",
        "                   \"L\" : [\"R\", \"P\",],\n",
        "                   \"P\" : [\"O\", \"L\", \"N\"],\n",
        "                   \"N\" : [\"M\", \"P\"]\n",
        "                   }\n",
        "\n",
        "g = graph(graph_elements)\n",
        "\n",
        "print(g.edges())"
      ],
      "metadata": {
        "colab": {
          "base_uri": "https://localhost:8080/"
        },
        "id": "c_8JofZ4RJd8",
        "outputId": "2db158f1-ee05-4a1b-ab54-e650cbbca3e7"
      },
      "execution_count": 31,
      "outputs": [
        {
          "output_type": "stream",
          "name": "stdout",
          "text": [
            "[{'R', 'O'}, {'R', 'L'}, {'O', 'M'}, {'P', 'O'}, {'N', 'M'}, {'P', 'L'}, {'P', 'N'}]\n"
          ]
        }
      ]
    },
    {
      "cell_type": "markdown",
      "source": [
        "**Menambah Vertex/Simpul**"
      ],
      "metadata": {
        "id": "94rG2SuLL73l"
      }
    },
    {
      "cell_type": "code",
      "source": [
        "class graph:\n",
        "\n",
        "  def __init__(self, gdict=None):\n",
        "    if gdict is None:\n",
        "      gdict = {}\n",
        "    self.gdict = gdict\n",
        "\n",
        "  def getVertices(self):\n",
        "    return list(self.gdict.keys())\n",
        "  \n",
        "  def addVertex(self, vrtx):\n",
        "    if vrtx not in self.gdict:\n",
        "      self.gdict[vrtx] = []\n",
        "\n",
        "graph_elements = {\"a\" : [\"b\", \"c\"],\n",
        "                  \"b\" : [\"a\", \"d\"],\n",
        "                  \"c\" : [\"a\", \"d\"],\n",
        "                  \"d\" : [\"e\"],\n",
        "                  \"e\" : [\"d\"]\n",
        "                  }\n",
        "\n",
        "g = graph(graph_elements)\n",
        "\n",
        "g.addVertex(\"f\")\n",
        "\n",
        "print(g.getVertices())"
      ],
      "metadata": {
        "colab": {
          "base_uri": "https://localhost:8080/"
        },
        "id": "-_N6ti6QLmCV",
        "outputId": "17d2eb2f-04f3-44a5-8246-613c5527416b"
      },
      "execution_count": 32,
      "outputs": [
        {
          "output_type": "stream",
          "name": "stdout",
          "text": [
            "['a', 'b', 'c', 'd', 'e', 'f']\n"
          ]
        }
      ]
    },
    {
      "cell_type": "code",
      "source": [
        "class graph:\n",
        "\n",
        "  def __init__(self, gdict=None):\n",
        "    if gdict is None:\n",
        "      gdict = {}\n",
        "    self.gdict = gdict\n",
        "\n",
        "  def getVertices(self):\n",
        "    return list(self.gdict.keys())\n",
        "  \n",
        "  def addVertex(self, vrtx):\n",
        "    if vrtx not in self.gdict:\n",
        "      self.gdict[vrtx] = []\n",
        "\n",
        "graph_elements = {\"S\" : [\"X\"],\n",
        "                  \"T\" : [\"U\", \"W\"],\n",
        "                  \"U\" : [\"T\", \"V\"],\n",
        "                  \"V\" : [\"U\", \"X\"],\n",
        "                  \"W\" : [\"T\", \"X\", \"Z\"],\n",
        "                  \"X\" : [\"V\", \"W\", \"S\"],\n",
        "                  \"Z\" : [\"W\"],\n",
        "                  }\n",
        "\n",
        "\n",
        "g = graph(graph_elements)\n",
        "\n",
        "g.addVertex(\"R\")\n",
        "\n",
        "print(g.getVertices())"
      ],
      "metadata": {
        "colab": {
          "base_uri": "https://localhost:8080/"
        },
        "id": "EhilMRdlROyF",
        "outputId": "06b79db6-c7cb-433c-820e-c2a8df146427"
      },
      "execution_count": 33,
      "outputs": [
        {
          "output_type": "stream",
          "name": "stdout",
          "text": [
            "['S', 'T', 'U', 'V', 'W', 'X', 'Z', 'R']\n"
          ]
        }
      ]
    },
    {
      "cell_type": "code",
      "source": [
        "class graph:\n",
        "\n",
        "  def __init__(self, gdict=None):\n",
        "    if gdict is None:\n",
        "      gdict = {}\n",
        "    self.gdict = gdict\n",
        "\n",
        "  def getVertices(self):\n",
        "    return list(self.gdict.keys())\n",
        "  \n",
        "  def addVertex(self, vrtx):\n",
        "    if vrtx not in self.gdict:\n",
        "      self.gdict[vrtx] = []\n",
        "\n",
        "graph_elements = {\"R\" : [\"O\", \"L\"],\n",
        "                   \"O\" : [\"R\", \"M\", \"P\"],\n",
        "                   \"M\" : [\"O\", \"N\"],\n",
        "                   \"L\" : [\"R\", \"P\",],\n",
        "                   \"P\" : [\"O\", \"L\", \"N\"],\n",
        "                   \"N\" : [\"M\", \"P\"]\n",
        "                   }\n",
        "\n",
        "g = graph(graph_elements)\n",
        "\n",
        "g.addVertex(\"S\")\n",
        "\n",
        "print(g.getVertices())"
      ],
      "metadata": {
        "colab": {
          "base_uri": "https://localhost:8080/"
        },
        "id": "CTM-qotERO6K",
        "outputId": "35d6c683-dcdf-4144-c8c6-db26c2e755dc"
      },
      "execution_count": 34,
      "outputs": [
        {
          "output_type": "stream",
          "name": "stdout",
          "text": [
            "['R', 'O', 'M', 'L', 'P', 'N', 'S']\n"
          ]
        }
      ]
    },
    {
      "cell_type": "markdown",
      "source": [
        "**Menambah Edge / Sudut**"
      ],
      "metadata": {
        "id": "skXXhFPdN2GC"
      }
    },
    {
      "cell_type": "code",
      "source": [
        "class graph:\n",
        "\n",
        "  def __init__(self, gdict=None):\n",
        "    if gdict is None:\n",
        "      gdict = {}\n",
        "    self.gdict = gdict\n",
        "\n",
        "  def edges(self):\n",
        "    return self.findedges()\n",
        "\n",
        "  def AddEdge(self, edge):\n",
        "    edge = set(edge)\n",
        "    (vrtx1, vrtx2) = tuple(edge)\n",
        "    if vrtx1 in self.gdict:\n",
        "      self.gdict[vrtx1].append(vrtx2)\n",
        "    else:\n",
        "      self.gdict[vrtx1] = [vrtx2]\n",
        "\n",
        "  def findedges(self):\n",
        "    edgename = []\n",
        "    for vrtx in self.gdict:\n",
        "      for nxtvrtx in self.gdict[vrtx]:\n",
        "        if {nxtvrtx, vrtx} not in edgename:\n",
        "          edgename.append({vrtx, nxtvrtx})\n",
        "    return edgename\n",
        "\n",
        "graph_elements = {\"a\" : [\"b\", \"c\"],\n",
        "                  \"b\" : [\"a\", \"d\"],\n",
        "                  \"c\" : [\"a\", \"d\"],\n",
        "                  \"d\" : [\"e\"],\n",
        "                  \"e\" : [\"d\"]\n",
        "                  }\n",
        "\n",
        "g = graph(graph_elements)\n",
        "g.AddEdge({'a', 'e'})\n",
        "g.AddEdge({'a', 'e'})\n",
        "print(g.edges())"
      ],
      "metadata": {
        "colab": {
          "base_uri": "https://localhost:8080/"
        },
        "id": "_lsxchm-N2OY",
        "outputId": "5e268a87-8bb7-4c34-a5a8-04df313f9262"
      },
      "execution_count": 35,
      "outputs": [
        {
          "output_type": "stream",
          "name": "stdout",
          "text": [
            "[{'a', 'b'}, {'a', 'c'}, {'a', 'e'}, {'d', 'b'}, {'d', 'c'}, {'d', 'e'}]\n"
          ]
        }
      ]
    },
    {
      "cell_type": "code",
      "source": [
        "class graph:\n",
        "\n",
        "  def __init__(self, gdict=None):\n",
        "    if gdict is None:\n",
        "      gdict = {}\n",
        "    self.gdict = gdict\n",
        "\n",
        "  def edges(self):\n",
        "    return self.findedges()\n",
        "\n",
        "  def AddEdge(self, edge):\n",
        "    edge = set(edge)\n",
        "    (vrtx1, vrtx2) = tuple(edge)\n",
        "    if vrtx1 in self.gdict:\n",
        "      self.gdict[vrtx1].append(vrtx2)\n",
        "    else:\n",
        "      self.gdict[vrtx1] = [vrtx2]\n",
        "\n",
        "  def findedges(self):\n",
        "    edgename = []\n",
        "    for vrtx in self.gdict:\n",
        "      for nxtvrtx in self.gdict[vrtx]:\n",
        "        if {nxtvrtx, vrtx} not in edgename:\n",
        "          edgename.append({vrtx, nxtvrtx})\n",
        "    return edgename\n",
        "\n",
        "graph_elements = {\"S\" : [\"X\"],\n",
        "                  \"T\" : [\"U\", \"W\"],\n",
        "                  \"U\" : [\"T\", \"V\"],\n",
        "                  \"V\" : [\"U\", \"X\"],\n",
        "                  \"W\" : [\"T\", \"X\", \"Z\"],\n",
        "                  \"X\" : [\"V\", \"W\", \"S\"],\n",
        "                  \"Z\" : [\"W\"],\n",
        "                  }\n",
        "\n",
        "\n",
        "g = graph(graph_elements)\n",
        "g.AddEdge({'X', 'Y'})\n",
        "g.AddEdge({'X', 'Y'})\n",
        "print(g.edges())"
      ],
      "metadata": {
        "colab": {
          "base_uri": "https://localhost:8080/"
        },
        "id": "vlkFir-lQlSd",
        "outputId": "53060adc-2ba1-402f-af89-1366bb610ee7"
      },
      "execution_count": 36,
      "outputs": [
        {
          "output_type": "stream",
          "name": "stdout",
          "text": [
            "[{'S', 'X'}, {'U', 'T'}, {'W', 'T'}, {'U', 'V'}, {'X', 'V'}, {'W', 'X'}, {'W', 'Z'}, {'X', 'Y'}]\n"
          ]
        }
      ]
    },
    {
      "cell_type": "code",
      "source": [
        "class graph:\n",
        "\n",
        "  def __init__(self, gdict=None):\n",
        "    if gdict is None:\n",
        "      gdict = {}\n",
        "    self.gdict = gdict\n",
        "\n",
        "  def edges(self):\n",
        "    return self.findedges()\n",
        "\n",
        "  def AddEdge(self, edge):\n",
        "    edge = set(edge)\n",
        "    (vrtx1, vrtx2) = tuple(edge)\n",
        "    if vrtx1 in self.gdict:\n",
        "      self.gdict[vrtx1].append(vrtx2)\n",
        "    else:\n",
        "      self.gdict[vrtx1] = [vrtx2]\n",
        "\n",
        "  def findedges(self):\n",
        "    edgename = []\n",
        "    for vrtx in self.gdict:\n",
        "      for nxtvrtx in self.gdict[vrtx]:\n",
        "        if {nxtvrtx, vrtx} not in edgename:\n",
        "          edgename.append({vrtx, nxtvrtx})\n",
        "    return edgename\n",
        "\n",
        "graph_elements = {\"R\" : [\"O\", \"L\"],\n",
        "                   \"O\" : [\"R\", \"M\", \"P\"],\n",
        "                   \"M\" : [\"O\", \"N\"],\n",
        "                   \"L\" : [\"R\", \"P\",],\n",
        "                   \"P\" : [\"O\", \"L\", \"N\"],\n",
        "                   \"N\" : [\"M\", \"P\"]\n",
        "                   }\n",
        "\n",
        "g = graph(graph_elements)\n",
        "g.AddEdge({'O', 'L'})\n",
        "g.AddEdge({'O', 'L'})\n",
        "print(g.edges())"
      ],
      "metadata": {
        "colab": {
          "base_uri": "https://localhost:8080/"
        },
        "id": "QBTXMZ-bQldi",
        "outputId": "af9706d4-0acf-40c7-8c8c-b8d94e621a78"
      },
      "execution_count": 37,
      "outputs": [
        {
          "output_type": "stream",
          "name": "stdout",
          "text": [
            "[{'R', 'O'}, {'R', 'L'}, {'O', 'M'}, {'P', 'O'}, {'O', 'L'}, {'N', 'M'}, {'P', 'L'}, {'P', 'N'}]\n"
          ]
        }
      ]
    }
  ]
}