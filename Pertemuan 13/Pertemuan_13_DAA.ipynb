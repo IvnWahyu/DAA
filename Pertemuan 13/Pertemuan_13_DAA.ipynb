{
  "nbformat": 4,
  "nbformat_minor": 0,
  "metadata": {
    "colab": {
      "provenance": []
    },
    "kernelspec": {
      "name": "python3",
      "display_name": "Python 3"
    },
    "language_info": {
      "name": "python"
    }
  },
  "cells": [
    {
      "cell_type": "markdown",
      "source": [
        "**Implementasi Algoritma Breadth-first Search**"
      ],
      "metadata": {
        "id": "uDWYzMzU_C-7"
      }
    },
    {
      "cell_type": "code",
      "execution_count": 65,
      "metadata": {
        "id": "N9BuSzOb-78l"
      },
      "outputs": [],
      "source": [
        "def bfs(graph, start):\n",
        "  visited = []\n",
        "  queue = [start]\n",
        "\n",
        "  while queue:\n",
        "    node = queue.pop(0)\n",
        "    if node not in visited:\n",
        "      visited.append(node)\n",
        "      neighbours = graph[node]\n",
        "      for neighbour in neighbours:\n",
        "        queue.append(neighbour)\n",
        "\n",
        "  return visited"
      ]
    },
    {
      "cell_type": "code",
      "source": [
        "graph = {'Amin' : {'Wasim', 'Nick', 'Mike'},\n",
        "         'Wasim' : {'Imran', 'Amin'},\n",
        "         'Imran' : {'Wasim', 'Faras'},\n",
        "         'Faras' : {'Imran'},\n",
        "         'Mike' : {'Amin'},\n",
        "         'Nick' : {'Amin'}}"
      ],
      "metadata": {
        "id": "yer882a0_zWT"
      },
      "execution_count": 66,
      "outputs": []
    },
    {
      "cell_type": "code",
      "source": [
        "bfs(graph,'Amin')"
      ],
      "metadata": {
        "colab": {
          "base_uri": "https://localhost:8080/"
        },
        "id": "L1cyD2E8AeJl",
        "outputId": "81d1befa-9ec3-4598-850f-21e83dae5fc4"
      },
      "execution_count": 67,
      "outputs": [
        {
          "output_type": "execute_result",
          "data": {
            "text/plain": [
              "['Amin', 'Nick', 'Mike', 'Wasim', 'Imran', 'Faras']"
            ]
          },
          "metadata": {},
          "execution_count": 67
        }
      ]
    },
    {
      "cell_type": "code",
      "source": [
        "# o amin--------------\n",
        "# /         /        /\n",
        "# o wasim   o nick   o mike\n",
        "# /\n",
        "# o imran\n",
        "# /\n",
        "# o faras\n",
        "bfs(graph,'Amin')"
      ],
      "metadata": {
        "colab": {
          "base_uri": "https://localhost:8080/"
        },
        "id": "1ZsnatToBgBJ",
        "outputId": "a39195a3-7d41-4112-bcac-2403c7bf6ac9"
      },
      "execution_count": 68,
      "outputs": [
        {
          "output_type": "execute_result",
          "data": {
            "text/plain": [
              "['Amin', 'Nick', 'Mike', 'Wasim', 'Imran', 'Faras']"
            ]
          },
          "metadata": {},
          "execution_count": 68
        }
      ]
    },
    {
      "cell_type": "code",
      "source": [
        "# o wasim----\n",
        "# /         /        \n",
        "# o imran   o amin -----   \n",
        "# /         /         /\n",
        "# o faras   o nick    o mike\n",
        "\n",
        "bfs(graph, 'Wasim')"
      ],
      "metadata": {
        "colab": {
          "base_uri": "https://localhost:8080/"
        },
        "id": "W2julio7EMrt",
        "outputId": "0afd249a-237a-4d27-d1b4-a938fcf25423"
      },
      "execution_count": 69,
      "outputs": [
        {
          "output_type": "execute_result",
          "data": {
            "text/plain": [
              "['Wasim', 'Imran', 'Amin', 'Faras', 'Nick', 'Mike']"
            ]
          },
          "metadata": {},
          "execution_count": 69
        }
      ]
    },
    {
      "cell_type": "code",
      "source": [
        "# o faras\n",
        "# /        \n",
        "# o imran   \n",
        "# /\n",
        "# o wasim   o nick    o mike\n",
        "# /         /         /\n",
        "# o amin -------------\n",
        "\n",
        "bfs(graph, 'Faras')"
      ],
      "metadata": {
        "colab": {
          "base_uri": "https://localhost:8080/"
        },
        "id": "YLnBRqQaEpBv",
        "outputId": "d667eb06-d131-4f38-aace-2711e8fc166b"
      },
      "execution_count": 70,
      "outputs": [
        {
          "output_type": "execute_result",
          "data": {
            "text/plain": [
              "['Faras', 'Imran', 'Wasim', 'Amin', 'Nick', 'Mike']"
            ]
          },
          "metadata": {},
          "execution_count": 70
        }
      ]
    },
    {
      "cell_type": "code",
      "source": [
        "def bfs(graphRektor, start):\n",
        "  visited = []\n",
        "  queue = [start]\n",
        "\n",
        "  while queue:\n",
        "    node = queue.pop(0)\n",
        "    if node not in visited:\n",
        "      visited.append(node)\n",
        "      neighbours = graphRektor[node]\n",
        "      for neighbour in neighbours:\n",
        "        queue.append(neighbour)\n",
        "\n",
        "  return visited"
      ],
      "metadata": {
        "id": "ljCCkeWHLuFY"
      },
      "execution_count": 71,
      "outputs": []
    },
    {
      "cell_type": "code",
      "source": [
        "graphRektor = {'Rektor' : {'Warek 1', 'Warek 2'},\n",
        "          'Warek 1' : {'Rektor'},\n",
        "          'Warek 2' : {'Rektor', 'Kaprodi 1', 'Kaprodi 2', 'Kaprodi 3'},\n",
        "          'Kaprodi 1' : {'Warek 2', 'Dosen A', 'Dosen B', 'Dosen C'},\n",
        "          'Dosen A' : {'Kaprodi 1'},\n",
        "          'Dosen B' : {'Kaprodi 1'},\n",
        "          'Dosen C' : {'Kaprodi 1'},\n",
        "          'Kaprodi 2' : {'Warek 2', 'Dosen D', 'Dosen E'},\n",
        "          'Dosen D' : {'Kaprodi 2'},\n",
        "          'Dosen E' : {'Kaprodi 2'},\n",
        "          'Kaprodi 3' : {'Warek 2', 'Dosen F', 'Dosen G'},\n",
        "          'Dosen F' : {'Kaprodi 3'},\n",
        "          'Dosen G' : {'Kaprodi 3'}\n",
        "          }"
      ],
      "metadata": {
        "id": "1vDPbPLAF3m3"
      },
      "execution_count": 72,
      "outputs": []
    },
    {
      "cell_type": "code",
      "source": [
        "bfs(graphRektor, 'Rektor')"
      ],
      "metadata": {
        "colab": {
          "base_uri": "https://localhost:8080/"
        },
        "id": "_EsFuHM2LfPO",
        "outputId": "220249ab-a55a-4de6-9f0d-126e6a16fdae"
      },
      "execution_count": 73,
      "outputs": [
        {
          "output_type": "execute_result",
          "data": {
            "text/plain": [
              "['Rektor',\n",
              " 'Warek 1',\n",
              " 'Warek 2',\n",
              " 'Kaprodi 1',\n",
              " 'Kaprodi 2',\n",
              " 'Kaprodi 3',\n",
              " 'Dosen A',\n",
              " 'Dosen C',\n",
              " 'Dosen B',\n",
              " 'Dosen D',\n",
              " 'Dosen E',\n",
              " 'Dosen F',\n",
              " 'Dosen G']"
            ]
          },
          "metadata": {},
          "execution_count": 73
        }
      ]
    },
    {
      "cell_type": "markdown",
      "source": [
        "Implementasi Algorithma Depth-First Search"
      ],
      "metadata": {
        "id": "xzIaqGawJ1KS"
      }
    },
    {
      "cell_type": "code",
      "source": [
        "bfs(graphRektor, 'Kaprodi 2')"
      ],
      "metadata": {
        "colab": {
          "base_uri": "https://localhost:8080/"
        },
        "id": "Gbu6rmnYKLxA",
        "outputId": "3f76c9f6-21a5-486a-963d-d709a8b71c09"
      },
      "execution_count": 74,
      "outputs": [
        {
          "output_type": "execute_result",
          "data": {
            "text/plain": [
              "['Kaprodi 2',\n",
              " 'Dosen D',\n",
              " 'Warek 2',\n",
              " 'Dosen E',\n",
              " 'Rektor',\n",
              " 'Kaprodi 1',\n",
              " 'Kaprodi 3',\n",
              " 'Warek 1',\n",
              " 'Dosen A',\n",
              " 'Dosen C',\n",
              " 'Dosen B',\n",
              " 'Dosen F',\n",
              " 'Dosen G']"
            ]
          },
          "metadata": {},
          "execution_count": 74
        }
      ]
    },
    {
      "cell_type": "markdown",
      "source": [
        "DFS"
      ],
      "metadata": {
        "id": "LMfQHC_nPopS"
      }
    },
    {
      "cell_type": "code",
      "source": [
        "def dfs(graph, start, visited=None):\n",
        "  if visited is None:\n",
        "    visited = set()\n",
        "  visited.add(start)\n",
        "  print(start)\n",
        "  for next in graph[start] - visited:\n",
        "    dfs(graph, next, visited)\n",
        "  return visited"
      ],
      "metadata": {
        "id": "tyKt8mbyPnNk"
      },
      "execution_count": 75,
      "outputs": []
    },
    {
      "cell_type": "code",
      "source": [
        "graph = {'Amin' : {'Wasim', 'Nick', 'Mike'},\n",
        "         'Wasim' : {'Imran', 'Amin'},\n",
        "         'Imran' : {'Wasim', 'Faras'},\n",
        "         'Faras' : {'Imran'},\n",
        "         'Mike' : {'Amin'},\n",
        "         'Nick' : {'Amin'}}"
      ],
      "metadata": {
        "id": "z9_hKNsJRZnL"
      },
      "execution_count": 76,
      "outputs": []
    },
    {
      "cell_type": "code",
      "source": [
        "# o amin--------------\n",
        "# /         /        /\n",
        "# o wasim   o nick   o mike\n",
        "# /\n",
        "# o imran\n",
        "# /\n",
        "# o faras\n",
        "# turun dari amin ke faras, geser ke nick & mike\n",
        "\n",
        "dfs(graph, 'Amin')"
      ],
      "metadata": {
        "colab": {
          "base_uri": "https://localhost:8080/"
        },
        "id": "n9DfuzsgSFWq",
        "outputId": "ef59a89f-c455-4d73-c468-3d27e1c4d090"
      },
      "execution_count": 77,
      "outputs": [
        {
          "output_type": "stream",
          "name": "stdout",
          "text": [
            "Amin\n",
            "Nick\n",
            "Mike\n",
            "Wasim\n",
            "Imran\n",
            "Faras\n"
          ]
        },
        {
          "output_type": "execute_result",
          "data": {
            "text/plain": [
              "{'Amin', 'Faras', 'Imran', 'Mike', 'Nick', 'Wasim'}"
            ]
          },
          "metadata": {},
          "execution_count": 77
        }
      ]
    },
    {
      "cell_type": "code",
      "source": [
        "# o amin--------------\n",
        "# /         /        /\n",
        "# o wasim   o nick   o mike\n",
        "# /\n",
        "# o imran\n",
        "# /\n",
        "# o faras\n",
        "# turun dari wasim ke faras, naik ke amin, geser ke nick & mike\n",
        "dfs(graph, 'Wasim')"
      ],
      "metadata": {
        "colab": {
          "base_uri": "https://localhost:8080/"
        },
        "id": "KId0P4tWTcE8",
        "outputId": "ca40580f-dd01-4f1d-c0b5-135c11f668b4"
      },
      "execution_count": 78,
      "outputs": [
        {
          "output_type": "stream",
          "name": "stdout",
          "text": [
            "Wasim\n",
            "Imran\n",
            "Faras\n",
            "Amin\n",
            "Nick\n",
            "Mike\n"
          ]
        },
        {
          "output_type": "execute_result",
          "data": {
            "text/plain": [
              "{'Amin', 'Faras', 'Imran', 'Mike', 'Nick', 'Wasim'}"
            ]
          },
          "metadata": {},
          "execution_count": 78
        }
      ]
    },
    {
      "cell_type": "code",
      "source": [
        "# o amin--------------\n",
        "# /         /        /\n",
        "# o wasim   o nick   o mike\n",
        "# /\n",
        "# o imran\n",
        "# /\n",
        "# o faras\n",
        "# naik dari faras ke amin, geser ke nick & mike\n",
        "dfs(graph, 'Faras')"
      ],
      "metadata": {
        "colab": {
          "base_uri": "https://localhost:8080/"
        },
        "id": "593VQSJ6Vgt1",
        "outputId": "4dce388a-8b4c-41fc-b856-b5bb26229fac"
      },
      "execution_count": 79,
      "outputs": [
        {
          "output_type": "stream",
          "name": "stdout",
          "text": [
            "Faras\n",
            "Imran\n",
            "Wasim\n",
            "Amin\n",
            "Nick\n",
            "Mike\n"
          ]
        },
        {
          "output_type": "execute_result",
          "data": {
            "text/plain": [
              "{'Amin', 'Faras', 'Imran', 'Mike', 'Nick', 'Wasim'}"
            ]
          },
          "metadata": {},
          "execution_count": 79
        }
      ]
    },
    {
      "cell_type": "code",
      "source": [
        "# o amin--------------\n",
        "# /         /        /\n",
        "# o wasim   o nick   o mike\n",
        "# /\n",
        "# o imran\n",
        "# /\n",
        "# o faras\n",
        "# naik nick ke amin, turun ke faras, geser mike\n",
        "dfs(graph, 'Nick')"
      ],
      "metadata": {
        "id": "E7Tk4xo5WsPo"
      },
      "execution_count": null,
      "outputs": []
    },
    {
      "cell_type": "code",
      "source": [
        "dfs(graphRektor, 'Rektor')"
      ],
      "metadata": {
        "colab": {
          "base_uri": "https://localhost:8080/"
        },
        "id": "c0IHbbedXLJv",
        "outputId": "23243bfd-194e-4ce5-ce43-52353461a7e8"
      },
      "execution_count": 80,
      "outputs": [
        {
          "output_type": "stream",
          "name": "stdout",
          "text": [
            "Rektor\n",
            "Warek 1\n",
            "Warek 2\n",
            "Kaprodi 1\n",
            "Dosen A\n",
            "Dosen C\n",
            "Dosen B\n",
            "Kaprodi 2\n",
            "Dosen D\n",
            "Dosen E\n",
            "Kaprodi 3\n",
            "Dosen F\n",
            "Dosen G\n"
          ]
        },
        {
          "output_type": "execute_result",
          "data": {
            "text/plain": [
              "{'Dosen A',\n",
              " 'Dosen B',\n",
              " 'Dosen C',\n",
              " 'Dosen D',\n",
              " 'Dosen E',\n",
              " 'Dosen F',\n",
              " 'Dosen G',\n",
              " 'Kaprodi 1',\n",
              " 'Kaprodi 2',\n",
              " 'Kaprodi 3',\n",
              " 'Rektor',\n",
              " 'Warek 1',\n",
              " 'Warek 2'}"
            ]
          },
          "metadata": {},
          "execution_count": 80
        }
      ]
    }
  ]
}