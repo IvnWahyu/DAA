{
  "nbformat": 4,
  "nbformat_minor": 0,
  "metadata": {
    "colab": {
      "provenance": [],
      "collapsed_sections": []
    },
    "kernelspec": {
      "name": "python3",
      "display_name": "Python 3"
    },
    "language_info": {
      "name": "python"
    }
  },
  "cells": [
    {
      "cell_type": "markdown",
      "source": [
        "**Linear Programming**"
      ],
      "metadata": {
        "id": "kdm9w-L68mVW"
      }
    },
    {
      "cell_type": "code",
      "source": [
        "!pip install -q pulp"
      ],
      "metadata": {
        "id": "Uoec3Z2-GatX"
      },
      "execution_count": 51,
      "outputs": []
    },
    {
      "cell_type": "code",
      "execution_count": 52,
      "metadata": {
        "id": "BCDQBjQL8dK7"
      },
      "outputs": [],
      "source": [
        "import pulp"
      ]
    },
    {
      "cell_type": "code",
      "source": [
        "#Instantiate our problem class\n",
        "model = pulp.LpProblem(\"ProfitMaximisingProblem\", pulp.LpMaximize)"
      ],
      "metadata": {
        "id": "EY8CCqZ18s1G"
      },
      "execution_count": 53,
      "outputs": []
    },
    {
      "cell_type": "code",
      "source": [
        "A = pulp.LpVariable('A', lowBound=0, cat='Integer')\n",
        "B = pulp.LpVariable('B', lowBound=0, cat='Integer')"
      ],
      "metadata": {
        "id": "u5h-hVkM9A1a"
      },
      "execution_count": 54,
      "outputs": []
    },
    {
      "cell_type": "code",
      "source": [
        "# Objective function\n",
        "\n",
        "model += 5000 * A + 2500 * B, \"Profit\"\n",
        "# Constraints\n",
        "model += 3 * A + 2 * B <= 20\n",
        "model += 4 * A + 3 * B <= 30\n",
        "model += 4 * A + 3 * B <= 44"
      ],
      "metadata": {
        "id": "fVJNIjJbG2FU"
      },
      "execution_count": 55,
      "outputs": []
    },
    {
      "cell_type": "code",
      "source": [
        "#Solve our problem \n",
        "model.solve()\n",
        "pulp.LpStatus[model.status]"
      ],
      "metadata": {
        "colab": {
          "base_uri": "https://localhost:8080/",
          "height": 36
        },
        "id": "D___a_5fG3XE",
        "outputId": "e3d957f3-8517-451a-c9b5-3066f9517fc4"
      },
      "execution_count": 56,
      "outputs": [
        {
          "output_type": "execute_result",
          "data": {
            "text/plain": [
              "'Optimal'"
            ],
            "application/vnd.google.colaboratory.intrinsic+json": {
              "type": "string"
            }
          },
          "metadata": {},
          "execution_count": 56
        }
      ]
    },
    {
      "cell_type": "code",
      "source": [
        "#Print our deision variable values\n",
        "print(A.varValue)\n",
        "print(B.varValue)"
      ],
      "metadata": {
        "colab": {
          "base_uri": "https://localhost:8080/"
        },
        "id": "BYUHZDSSG3eg",
        "outputId": "d32e5f64-d3f9-446b-bff6-7ccd177fdb10"
      },
      "execution_count": 57,
      "outputs": [
        {
          "output_type": "stream",
          "name": "stdout",
          "text": [
            "6.0\n",
            "1.0\n"
          ]
        }
      ]
    },
    {
      "cell_type": "code",
      "source": [
        "#Prin our objective function value\n",
        "print(pulp.value(model.objective))"
      ],
      "metadata": {
        "colab": {
          "base_uri": "https://localhost:8080/"
        },
        "id": "BKbTdLX3G_S3",
        "outputId": "4fd79bf0-7c0b-4a35-e6b6-f9ff87a94d40"
      },
      "execution_count": 58,
      "outputs": [
        {
          "output_type": "stream",
          "name": "stdout",
          "text": [
            "32500.0\n"
          ]
        }
      ]
    },
    {
      "cell_type": "markdown",
      "source": [
        "**Latihan 1**\n",
        "\n",
        "Carilah nilai x dan y dari persamaan berikut\n",
        "\n",
        "4x + 3y = 34\n",
        "\n",
        "5x + y = 37"
      ],
      "metadata": {
        "id": "GdT6RO8aHC0d"
      }
    },
    {
      "cell_type": "code",
      "source": [
        "model = pulp.LpProblem(\"MencariNilaiXdanY\", pulp.LpMaximize)\n",
        "\n",
        "X = pulp.LpVariable('X', lowBound=0, cat='Integer')\n",
        "Y = pulp.LpVariable('Y', lowBound=0, cat='Integer')\n",
        "\n",
        "model += 4 * X + 3 * Y == 34\n",
        "model += 5 * X + 1 * Y == 37\n",
        "\n",
        "model.solve()\n",
        "pulp.LpStatus[model.status]\n",
        "\n",
        "print(X.varValue)\n",
        "print(Y.varValue)"
      ],
      "metadata": {
        "colab": {
          "base_uri": "https://localhost:8080/"
        },
        "id": "cJFD3-IbHChr",
        "outputId": "462877f1-d64d-4826-cca4-4bc51745420e"
      },
      "execution_count": 59,
      "outputs": [
        {
          "output_type": "stream",
          "name": "stdout",
          "text": [
            "7.0\n",
            "2.0\n"
          ]
        }
      ]
    },
    {
      "cell_type": "markdown",
      "source": [
        "**Latihan 2**\n",
        "\n",
        "Budi membeli tiga pensil dan empat buku di toko Rana\n",
        "dengan harga Rp 11000,-. Jika Budi membeli lagi sebuah\n",
        "pensil dan tujuh buku ditoko yang sama dengan harga Rp\n",
        "15000,-. Berapakah harga dua buah pensil dan enam buah\n",
        "buku jika Budi membeli kembali di toko Rana!"
      ],
      "metadata": {
        "id": "nKYPib8oJ7gi"
      }
    },
    {
      "cell_type": "code",
      "source": [
        "model = pulp.LpProblem(\"MencariTotalHarga\", pulp.LpMaximize)\n",
        "\n",
        "P = pulp.LpVariable('P', lowBound=0, cat='Integer')\n",
        "B = pulp.LpVariable('B', lowBound=0, cat='Integer')\n",
        "\n",
        "model += 3 * P + 4 * B == 11000\n",
        "model += 1 * P + 7 * B == 15000\n",
        "\n",
        "model += 2 * P + 6 * B, 'Total Harga'\n",
        "\n",
        "model.solve()\n",
        "pulp.LpStatus[model.status]\n",
        "\n",
        "print(P.varValue)\n",
        "print(B.varValue)\n",
        "\n",
        "print(pulp.value(model.objective))"
      ],
      "metadata": {
        "colab": {
          "base_uri": "https://localhost:8080/"
        },
        "id": "tFEtKjFtJ7oU",
        "outputId": "97abadd1-4381-4a21-b319-23335d0a7b83"
      },
      "execution_count": 60,
      "outputs": [
        {
          "output_type": "stream",
          "name": "stdout",
          "text": [
            "1000.0\n",
            "2000.0\n",
            "14000.0\n"
          ]
        }
      ]
    },
    {
      "cell_type": "markdown",
      "source": [
        "Latihan 3\n",
        "\n",
        "Keliling sebuah persegi panjang sama dengan 44\n",
        "cm. Jika lebarnya 6 cm lebih pendek dari\n",
        "panjangnya, carilah panjang dan lebar dari persegi\n",
        "panjang tersebut."
      ],
      "metadata": {
        "id": "w25bytT-MWu-"
      }
    },
    {
      "cell_type": "code",
      "source": [
        "model = pulp.LpProblem(\"MencariPanjangLebar\", pulp.LpMaximize)\n",
        "\n",
        "P = pulp.LpVariable('P', lowBound=0, cat='Integer')\n",
        "L = pulp.LpVariable('L', lowBound=0, cat='Integer')\n",
        "\n",
        "model += 2 * P + 2 * L, 'Keliling'\n",
        "\n",
        "model += 2 * P + 2 * L == 44\n",
        "model += 2 * P + 2 * (P - 6) == 44\n",
        "\n",
        "model.solve()\n",
        "pulp.LpStatus[model.status]\n",
        "\n",
        "print (P.varValue)\n",
        "print (L.varValue)\n",
        "\n",
        "print (pulp.value(model.objective))"
      ],
      "metadata": {
        "colab": {
          "base_uri": "https://localhost:8080/"
        },
        "id": "rKS0OT_0MW2k",
        "outputId": "bd7dd460-818f-4548-c6a5-95de1a807331"
      },
      "execution_count": 61,
      "outputs": [
        {
          "output_type": "stream",
          "name": "stdout",
          "text": [
            "14.0\n",
            "8.0\n",
            "44.0\n"
          ]
        }
      ]
    },
    {
      "cell_type": "markdown",
      "source": [
        "**Menggunakan Scipy**"
      ],
      "metadata": {
        "id": "M5parzu8Nlq1"
      }
    },
    {
      "cell_type": "markdown",
      "source": [
        "Persamaan max z = 5x1 + 7x2 dimana\n",
        "\n",
        "• 1x1 + 0x2 <= 16,\n",
        "\n",
        "• 2x1 + 3x2 <= 19,\n",
        "\n",
        "• 1x1 + 1x2 <= 8,\n",
        "\n",
        "• x1, x2 >= 0"
      ],
      "metadata": {
        "id": "WwvioJOgNqMh"
      }
    },
    {
      "cell_type": "code",
      "source": [
        "import numpy as np\n",
        "from scipy.optimize import linprog"
      ],
      "metadata": {
        "id": "uRL7PojTOXTw"
      },
      "execution_count": 62,
      "outputs": []
    },
    {
      "cell_type": "code",
      "source": [
        "# Set the inequality constraints matrix\n",
        "# Note: the inequality constraints must be in the form of <=\n",
        "A = np.array([[1, 0], [2, 3], [1, 1], [-1, 0], [0, -1]])"
      ],
      "metadata": {
        "id": "oqVfUJL7Nl2S"
      },
      "execution_count": 63,
      "outputs": []
    },
    {
      "cell_type": "code",
      "source": [
        "# Set the inequality constraints vector \n",
        "b = np.array([16, 19, 8, 0, 0])"
      ],
      "metadata": {
        "id": "BOiBG-NJOI99"
      },
      "execution_count": 64,
      "outputs": []
    },
    {
      "cell_type": "code",
      "source": [
        "# Set the coefficients of the linear objective function vector \n",
        "# Note: when maximizing, change the signs of the c vector coefficient\n",
        "c = np.array([-5, -7])"
      ],
      "metadata": {
        "id": "f0DprjEHOj_g"
      },
      "execution_count": 65,
      "outputs": []
    },
    {
      "cell_type": "code",
      "source": [
        "# Solve Linear programming problem \n",
        "res = linprog(c, A_ub=A, b_ub=b)"
      ],
      "metadata": {
        "id": "HOumHiIbOwn8"
      },
      "execution_count": 66,
      "outputs": []
    },
    {
      "cell_type": "code",
      "source": [
        "# Print results\n",
        "print('Optimal Valus:', round(res.fun*-1, ndigits=2),\n",
        "      '\\nx values:', res.x,\n",
        "      '\\nNumber of iterations performed:', res.nit,\n",
        "      '\\nStatus:', res.message)"
      ],
      "metadata": {
        "colab": {
          "base_uri": "https://localhost:8080/"
        },
        "id": "79sQYph_O-Go",
        "outputId": "2884b564-fbd5-4117-aebe-dcb4279ba1ec"
      },
      "execution_count": 67,
      "outputs": [
        {
          "output_type": "stream",
          "name": "stdout",
          "text": [
            "Optimal Valus: 46.0 \n",
            "x values: [5. 3.] \n",
            "Number of iterations performed: 5 \n",
            "Status: Optimization terminated successfully.\n"
          ]
        }
      ]
    },
    {
      "cell_type": "markdown",
      "source": [
        "**Latihan 1**\n",
        "\n",
        "Carilah nilai x dan y dari persamaan berikut\n",
        "\n",
        "• 4x + 12y = 28\n",
        "\n",
        "• 2x + y = 21"
      ],
      "metadata": {
        "id": "RTNl2bNgQNUE"
      }
    },
    {
      "cell_type": "code",
      "source": [
        "A = np.array([[4, 12], [2, 1]])\n",
        "\n",
        "b = np.array([28, 21])\n",
        "\n",
        "c = np.array([-1, -5])\n",
        "\n",
        "res = linprog(c, A_ub=A, b_ub=b)\n",
        "\n",
        "print('Optimal Valus:', round(res.fun*-1, ndigits=2),\n",
        "      '\\nx values:', res.x,\n",
        "      '\\nNumber of iterations performed:', res.nit,\n",
        "      '\\nStatus:', res.message)"
      ],
      "metadata": {
        "colab": {
          "base_uri": "https://localhost:8080/"
        },
        "id": "BaRaIiVJQNZe",
        "outputId": "1f213833-76e9-49e8-c3d9-bad8be30049e"
      },
      "execution_count": 68,
      "outputs": [
        {
          "output_type": "stream",
          "name": "stdout",
          "text": [
            "Optimal Valus: 11.67 \n",
            "x values: [1.26448491e-11 2.33333333e+00] \n",
            "Number of iterations performed: 5 \n",
            "Status: Optimization terminated successfully.\n"
          ]
        }
      ]
    },
    {
      "cell_type": "markdown",
      "source": [
        "**Latihan 2**\n",
        "\n",
        "Lisa dan Muri bekerja pada pabrik tas. Lisa dapat\n",
        "meyelesaikan 3 buah tas setiap jam dan Muri dapat\n",
        "menyelesaikan 4 tas setiap jam. Jumlah jam kerja\n",
        "Lisa dan Muri adalah 16 jam sehari dengan jumlah\n",
        "tas yang dibuat oleh keduanya adalah 55 tas. Jika\n",
        "jam kerja keduanya berbeda, tentukan jam kerja\n",
        "mereka masing-masing."
      ],
      "metadata": {
        "id": "oCbbdlNuQj-1"
      }
    },
    {
      "cell_type": "code",
      "source": [
        "A = np.array([[3, 4], [1, 1], [-1, 0], [0, -1]])\n",
        "\n",
        "b = np.array([55, 16, 0, 0])\n",
        "\n",
        "c = np.array([-1, -1])\n",
        "\n",
        "res = linprog(c, A_ub=A, b_ub=b)\n",
        "\n",
        "print('Optimal Valus:', round(res.fun*-1, ndigits=2),\n",
        "      '\\nx values:', res.x,\n",
        "      '\\nNumber of iterations performed:', res.nit,\n",
        "      '\\nStatus:', res.message)"
      ],
      "metadata": {
        "colab": {
          "base_uri": "https://localhost:8080/"
        },
        "id": "8nnj5kQeQkEI",
        "outputId": "173a5a25-5d8e-4a72-ed42-7c75a2de2259"
      },
      "execution_count": 69,
      "outputs": [
        {
          "output_type": "stream",
          "name": "stdout",
          "text": [
            "Optimal Valus: 16.0 \n",
            "x values: [11.28137676  4.71862324] \n",
            "Number of iterations performed: 5 \n",
            "Status: Optimization terminated successfully.\n"
          ]
        }
      ]
    }
  ]
}